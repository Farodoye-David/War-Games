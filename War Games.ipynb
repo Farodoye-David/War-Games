{
 "cells": [
  {
   "cell_type": "code",
   "execution_count": null,
   "id": "3f42a7aa-120e-4278-9bce-8b0b94a47e13",
   "metadata": {},
   "outputs": [],
   "source": [
    "# Card\n",
    "# Suits, Rank, Value\n",
    "import random\n",
    "suits = ('Hearts','Diamonds','Spades','Clubs')\n",
    "ranks = ('Two','Three','Four','Five','Six','Seven','Eight','Nine','Ten','Jack','Queen','King','Ace') \n",
    "values = {\"Two\":2,\"Three\":3,\"Four\":4,\"Five\":5,\"Six\":6,\"Seven\":7,\"Eight\":8,\"Nine\":9,\"Ten\":10,\"Jack\":11,\"Queen\":12,\"King\":13,\"Ace\":14}"
   ]
  },
  {
   "cell_type": "code",
   "execution_count": null,
   "id": "66d765c6-db2c-470e-9f1a-224ad1ad960f",
   "metadata": {},
   "outputs": [],
   "source": [
    "class Card:\n",
    "    '''\n",
    "    This is a class that has the all the cards information\n",
    "    '''\n",
    "\n",
    "    def __init__(self,suit,rank):\n",
    "        '''\n",
    "        The class is being instantiated\n",
    "        '''\n",
    "        self.suit = suit.title()\n",
    "        self.rank = rank.title()\n",
    "        self.value = values[rank.title()]\n",
    "\n",
    "    def __str__(self):\n",
    "        return f\"{self.rank} of {self.suit}\""
   ]
  },
  {
   "cell_type": "code",
   "execution_count": null,
   "id": "d1fabaec-8e72-4451-8d96-0e42e40d33c5",
   "metadata": {},
   "outputs": [],
   "source": [
    "class Deck:\n",
    "\n",
    "    def __init__(self):\n",
    "        #instantiating the class\n",
    "        \n",
    "        self.all_cards = []\n",
    "        \n",
    "        for suite in suits:\n",
    "            for ranke in ranks:\n",
    "                #Create the card object\n",
    "                created_cards = Card(suite,ranke)\n",
    "                \n",
    "                self.all_cards.append(created_cards)\n",
    "                \n",
    "    def shuffle(self):\n",
    "        #Shuffle the deck\n",
    "        random.shuffle(self.all_cards)\n",
    "\n",
    "    def deal_one(self):\n",
    "        return self.all_cards.pop()"
   ]
  },
  {
   "cell_type": "code",
   "execution_count": null,
   "id": "3684d921-0fc8-4cc1-9683-763e60670ace",
   "metadata": {},
   "outputs": [],
   "source": [
    "class Player:\n",
    "\n",
    "    def __init__(self,name):\n",
    "        self.name = name\n",
    "        self.all_cards = []\n",
    "\n",
    "    def remove_one(self):\n",
    "        return self.all_cards.pop(0)\n",
    "\n",
    "    def add_cards(self,new_cards):\n",
    "        if type(new_cards) == type([]):\n",
    "            # List of multiple cards\n",
    "            self.all_cards.extend(new_cards)\n",
    "        else:\n",
    "            # For a single card\n",
    "            self.all_cards.append(new_cards)\n",
    "\n",
    "    def __str__(self):\n",
    "        return f\"Player {self.name} has {len(self.all_cards)} cards.\""
   ]
  },
  {
   "cell_type": "code",
   "execution_count": null,
   "id": "5f9b2e91-05e3-4559-b3e0-f187589699ef",
   "metadata": {},
   "outputs": [],
   "source": [
    "#Game setup\n",
    "player_one = Player(\"One\")\n",
    "player_two = Player(\"Two\")\n",
    "\n",
    "new_deck = Deck()\n",
    "new_deck.shuffle()\n",
    "\n",
    "for x in range(26):\n",
    "    player_one.add_cards(new_deck.deal_one())\n",
    "    player_two.add_cards(new_deck.deal_one())"
   ]
  },
  {
   "cell_type": "code",
   "execution_count": null,
   "id": "d5057ea8-a250-4cb0-a984-ab9664c72c94",
   "metadata": {},
   "outputs": [],
   "source": [
    "game_on = True"
   ]
  },
  {
   "cell_type": "code",
   "execution_count": null,
   "id": "47b93b46-8ed4-4749-9389-a9bf64473c35",
   "metadata": {
    "scrolled": true
   },
   "outputs": [],
   "source": [
    "round_num = 0\n",
    "\n",
    "while game_on:\n",
    "\n",
    "    round_num += 1\n",
    "    print(f\"Round {round_num}\")\n",
    "\n",
    "    if len(player_one.all_cards) == 0:\n",
    "        print(\"Player One, out of cards! Player Two Wins!\")\n",
    "        game_on = False\n",
    "        break\n",
    "    if len(player_two.all_cards) == 0:\n",
    "        print(\"Player Two, out of cards! Player One Wins!\")\n",
    "        game_on = False\n",
    "        break\n",
    "\n",
    "    #Start a new round\n",
    "    player_one_cards = []\n",
    "    player_one_cards.append(player_one.remove_one())\n",
    "\n",
    "    player_two_cards = []\n",
    "    player_two_cards.append(player_two.remove_one())\n",
    "\n",
    "    at_war = True\n",
    "\n",
    "    while at_war:\n",
    "\n",
    "        if player_one_cards[-1].value < player_two_cards[-1].value:\n",
    "            \n",
    "            player_two.add_cards(player_two_cards)\n",
    "            player_two.add_cards(player_one_cards)\n",
    "            \n",
    "            at_war = False\n",
    "            \n",
    "        elif player_one_cards[-1].value > player_two_cards[-1].value:\n",
    "            \n",
    "            player_one.add_cards(player_one_cards)\n",
    "            player_one.add_cards(player_two_cards)\n",
    "            \n",
    "            at_war = False\n",
    "        else:\n",
    "            print(\"WAR!\")\n",
    "            \n",
    "            if len(player_one.all_cards) < 5:\n",
    "                print(\"Player One unable to declare war\\nPLAYER TWO WINS!\")\n",
    "                game_on = False\n",
    "                break\n",
    "                \n",
    "            elif len(player_two.all_cards) < 5:\n",
    "                print(\"Player Two unable to declare war\\nPLAYER ONE WINS!\")\n",
    "                game_on = False\n",
    "                break\n",
    "                \n",
    "            else:\n",
    "                for num in range(5):\n",
    "                    player_one_cards.append(player_one.remove_one())\n",
    "                    player_two_cards.append(player_two.remove_one())"
   ]
  },
  {
   "cell_type": "code",
   "execution_count": null,
   "id": "08f8ebbe-3339-41fa-bb51-56be35f543eb",
   "metadata": {},
   "outputs": [],
   "source": []
  }
 ],
 "metadata": {
  "kernelspec": {
   "display_name": "Python [conda env:base] *",
   "language": "python",
   "name": "conda-base-py"
  },
  "language_info": {
   "codemirror_mode": {
    "name": "ipython",
    "version": 3
   },
   "file_extension": ".py",
   "mimetype": "text/x-python",
   "name": "python",
   "nbconvert_exporter": "python",
   "pygments_lexer": "ipython3",
   "version": "3.12.7"
  }
 },
 "nbformat": 4,
 "nbformat_minor": 5
}
